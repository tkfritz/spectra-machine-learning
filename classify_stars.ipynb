{
 "cells": [
  {
   "cell_type": "markdown",
   "id": "2905e4cf",
   "metadata": {},
   "source": [
    "\n",
    "In this notebook supervised learning techniques are used to classify spectra for stars. Spectra are very detailed colors. Instead of 3 colors like in RGB they can have much more. In our case they are 3072 in the raw data. Like images they haave numeric values. Here they are floats, thus the features are a vector 3072 floats. The spectra are normalized by fitting a linear function to a range which is does not have strong features. "
   ]
  },
  {
   "cell_type": "code",
   "execution_count": 1,
   "id": "6439e05a",
   "metadata": {},
   "outputs": [],
   "source": [
    "#basic libraries\n",
    "import numpy as np\n",
    "\n",
    "import pandas as pd\n",
    "\n",
    "from matplotlib import pyplot as plt\n",
    "from matplotlib.pyplot import figure\n",
    "import seaborn as sns\n",
    "\n",
    "#We mainly use xgboost\n",
    "from xgboost import XGBClassifier\n",
    "import xgboost as xgb\n",
    "\n",
    "#some skitlearn tools\n",
    "from sklearn.model_selection import train_test_split\n",
    "from sklearn.metrics import confusion_matrix\n",
    "from sklearn.utils import class_weight\n",
    "\n",
    "\n",
    "\n",
    "#Astrop.io is needed to read the files with the astronomical features. \n",
    "from astropy.io import fits"
   ]
  },
  {
   "cell_type": "markdown",
   "id": "0235c998",
   "metadata": {},
   "source": [
    "Below we load the feature data and construct the labels used here of general labels. There are three classes here. Two classes early and late are for different types of stars. Both types show clear intrinsic variability. In addition there is real noise. This noise is mainly responsible that some spectra are not classified. They are unclassified. This third class is therefore even more diverse. Early and unclassfied are rather rare classes. Two datasets are combined into one here to have larger numbers of the rare classes. "
   ]
  },
  {
   "cell_type": "code",
   "execution_count": 2,
   "id": "ef773d24",
   "metadata": {},
   "outputs": [
    {
     "name": "stdout",
     "output_type": "stream",
     "text": [
      "shape of targets: (12, 636)\n",
      "General labels of data set A ['spec_quality', 'v_los', 'ev_fullcorr', 'ev_specparts', 'early', 'ev_final', 'corr_max', 's/n', 'id_exposure', 'id_ifu', 'id_cube', 'cub_quality', 'class']\n",
      "shape of feature cubes: (3072, 24, 31)\n",
      "number of genral labels 13\n",
      "After inclusion of data set A\n",
      "number of sources: 556 \n",
      "number of unclassified sources: 21 \n",
      "number of late-type sources: 523 \n",
      "number of sources with spectra: 12 \n",
      "Including both data sets\n",
      "number of sources with spectra: 4253\n",
      "number of unclassified sources: 59 \n",
      "number of late-type sources: 4162 \n",
      "number of sources with spectra: 32 \n",
      "shape of general labels: (13, 4253)\n",
      "shape of feature data now: (3072, 4253)\n"
     ]
    }
   ],
   "source": [
    "#General labels of data set A\n",
    "vel=np.loadtxt('./finvel_exp_st_v2_combined.txt').T\n",
    "print(f\"shape of targets: {np.shape(vel)}\")\n",
    "colnames=['spec_quality','v_los','ev_fullcorr','ev_specparts','early','ev_final','corr_max','s/n','id_exposure','id_ifu','id_cube','cub_quality','class']\n",
    "print(f\"General labels of data set A {colnames}\")\n",
    "#The features are in the fits data cubes below, the ids above connect them with labels\n",
    "#id_cube is for which cube to use, the others for the location in it. \n",
    "path='/home/tobias/ml-testing/spectra-ML/met-cal-22/'\n",
    "hbin=fits.open(path+'st1_atm_norm_cont_corr.fits.gz')\n",
    "spec1n=hbin[0].data\n",
    "hbin.close()\n",
    "hbin=fits.open(path+'st2_atm_norm_cont_corr.fits.gz')\n",
    "spec2n=hbin[0].data\n",
    "hbin.close()\n",
    "hbin=fits.open(path+'st3_atm_norm_cont_corr.fits.gz')\n",
    "spec3n=hbin[0].data\n",
    "hbin.close()\n",
    "hbin=fits.open(path+'st4_atm_norm_cont_corr.fits.gz')\n",
    "spec4n=hbin[0].data\n",
    "hbin.close()\n",
    "print(f\"shape of feature cubes: {np.shape(spec4n)}\")\n",
    "#select the stars with spectra, and creates the class used\n",
    "m=int(np.shape(vel)[0]+1)\n",
    "print(f\"number of genral labels {m}\")\n",
    "#Make large file for label combining the two datasets \n",
    "velg=np.zeros((int((np.shape(vel)[0])+1),4500))\n",
    "#Spectra are but in a two \n",
    "x=np.zeros((3072,4500))\n",
    "#counters to count the  number of each type of spectrum\n",
    "cg=0\n",
    "ce=0\n",
    "cl=0\n",
    "for i in range(np.shape(vel)[1]):\n",
    "    #exclude the really bad columns\n",
    "    if  vel[11,i]>-0.5:\n",
    "        if vel[10,i]==1 and np.median(spec1n[:,int(vel[9,i]-1),int(vel[8,i]-1)])>0:\n",
    "            x[:,cg]=spec1n[:,int(vel[9,i]-1),int(vel[8,i]-1)]\n",
    "            velg[0:12,cg]=vel[:,i]\n",
    "            cg+=1\n",
    "        if vel[10,i]==2 and np.median(spec2n[:,int(vel[9,i]-1),int(vel[8,i]-1)])>0:\n",
    "            x[:,cg]=spec2n[:,int(vel[9,i]-1),int(vel[8,i]-1)]\n",
    "            velg[0:12,cg]=vel[:,i]\n",
    "            cg+=1\n",
    "        if vel[10,i]==3 and np.median(spec3n[:,int(vel[9,i]-1),int(vel[8,i]-1)])>0:\n",
    "            x[:,cg]=spec3n[:,int(vel[9,i]-1),int(vel[8,i]-1)]\n",
    "            velg[0:12,cg]=vel[:,i]\n",
    "            cg+=1\n",
    "        if vel[10,i]==4 and np.median(spec4n[:,int(vel[9,i]-1),int(vel[8,i]-1)])>0:\n",
    "            x[:,cg]=spec4n[:,int(vel[9,i]-1),int(vel[8,i]-1)]   \n",
    "            velg[0:12,cg]=vel[:,i]\n",
    "            cg+=1\n",
    "        #creating the labels used, the thitrd is unclassified stays zeros    \n",
    "        if velg[0,cg-1]>0:\n",
    "            velg[12,cg-1]=1  #are late type\n",
    "            cl+=1\n",
    "        if velg[0,cg-1]<=0 and velg[4,cg-1]==1:\n",
    "            velg[12,cg-1]=2      #are early type   \n",
    "            ce+=1\n",
    "print(f\"After inclusion of data set A\")            \n",
    "print(f\"number of sources: {cg} \")\n",
    "print(f\"number of unclassified sources: {cg-cl-ce} \")\n",
    "print(f\"number of late-type sources: {cl} \")\n",
    "print(f\"number of sources with spectra: {ce} \")\n",
    "\n",
    "#now adding from spectra from 2018 data set B, same spectra for features\n",
    "path='/home/tobias/ml-testing/spectra-ML/2018/'\n",
    "hbin=fits.open(path+'st1_atm_norm_cont_corr.v3.fits.gz')\n",
    "spec1na=hbin[0].data\n",
    "hbin.close()\n",
    "hbin=fits.open(path+'st2_atm_norm_cont_corr.v3.fits.gz')\n",
    "spec2na=hbin[0].data\n",
    "hbin.close()\n",
    "hbin=fits.open(path+'st3_atm_norm_cont_corr.v3.fits.gz')\n",
    "spec3na=hbin[0].data\n",
    "hbin.close()\n",
    "hbin=fits.open(path+'st4_atm_norm_cont_corr.v3.fits.gz')\n",
    "spec4na=hbin[0].data\n",
    "hbin.close()\n",
    "#the table used for labels are different tehn above\n",
    "#table with all spectra ids\n",
    "data3=np.loadtxt('./source_spec_cat_v2b.txt').T\n",
    "#table with properties to derive labels\n",
    "data3b=np.loadtxt('./finalbigger_table_v1.txt').T\n",
    "for i in range(np.shape(data3)[1]):\n",
    "    #exclude very bad sources 20=0 indicates that no spectrum is available and ==96 were so bad that no all analysis was done\n",
    "    if data3[20,i]>0 and data3[20,i]!=96:\n",
    "        #get all spectra of each source, most have only one spectra, and all early have only one \n",
    "        #thus impact of using some spectra whichmore similar spectra small, since rare are the difficult sources\n",
    "        for j in range(int(data3[17,i])):\n",
    "            #get ids to address\n",
    "            yc=data3[20+j,i]#row id\n",
    "            xc=data3[28,i] #column id\n",
    "            zc=data3[29,i] #file id\n",
    "            spec=0 #controll variable to check whether star is there \n",
    "            #add sources to the labels \n",
    "            if int(zc)==1  and np.median(spec1na[:,int(xc-1),int(yc-1)])>0:\n",
    "                x[:,cg]=spec1na[:,int(xc-1),int(yc-1)]\n",
    "                cg+=1\n",
    "                spec=1\n",
    "            if int(zc)==2  and np.median(spec2na[:,int(xc-1),int(yc-1)])>0:\n",
    "                x[:,cg]=spec2na[:,int(xc-1),int(yc-1)]\n",
    "                cg+=1\n",
    "                spec=1\n",
    "            if int(zc)==3  and np.median(spec3na[:,int(xc-1),int(yc-1)])>0:\n",
    "                x[:,cg]=spec3na[:,int(xc-1),int(yc-1)]\n",
    "                cg+=1\n",
    "                spec=1\n",
    "            if int(zc)==4  and np.median(spec4na[:,int(xc-1),int(yc-1)])>0:\n",
    "                x[:,cg]=spec4na[:,int(xc-1),int(yc-1)]\n",
    "                cg+=1\n",
    "                spec=1                \n",
    "            #get the star in the file with class information by matching id\n",
    "            r=np.sqrt((xc-data3b[1,:])**2+(data3[20,i]-data3b[0,:])**2+(zc-data3b[2,:])**2)\n",
    "            s=np.argmin(r)\n",
    "            #get label (only main label is correct here, the others not) \n",
    "            if data3b[15,s]!=0 and spec==1:\n",
    "                #uses the temperature information\n",
    "                if data3b[31,s]<7900:\n",
    "                    velg[12,cg-1]=1\n",
    "                    cl+=1\n",
    "                if data3b[31,s]>=7900 and data3b[31,s]<=9000:\n",
    "                    #high snr sources in the transitio\n",
    "                    if data3b[14,s]>40:\n",
    "                        ce+=1\n",
    "                        velg[12,cg-1]=2\n",
    "                    else:\n",
    "                        cl+=1\n",
    "                        velg[12,cg-1]=1  \n",
    "                if data3b[31,s]>9000:\n",
    "                    velg[12,cg-1]=2\n",
    "                    ce+=1   \n",
    "print(f\"Including both data sets\")                    \n",
    "print(f\"number of sources with spectra: {cg}\")  \n",
    "print(f\"number of unclassified sources: {cg-ce-cl} \")\n",
    "print(f\"number of late-type sources: {cl} \")\n",
    "print(f\"number of sources with spectra: {ce} \")\n",
    "#exclude empty part\n",
    "velg=velg[:,0:cg]\n",
    "print(f\"shape of general labels: {np.shape(velg)}\")\n",
    "x=x[:,0:cg]\n",
    "print(f\"shape of feature data now: {np.shape(x)}\")"
   ]
  },
  {
   "cell_type": "markdown",
   "id": "08c91ab8",
   "metadata": {},
   "source": [
    "In another notebook (will be copied into this one) it was discovered when inspecting inspecting sources in the test sample that some of the missclassified sources had wrong labels. The labeliing process was mostly automaticfor late-type whether a cross correlation worked. Sources where it did not worked or with strange values were inspected by eye in the region relevant for early type, and either declare early or remained unclassified. Less care was given to late stars both unclassified decared ones which could be late and late stars with low signal level. Therefore all unclassified stars and late with large noise were inspected by eye and partly changed. In practice the are few cases were the class is not clear eye as expected when real noise matters. "
   ]
  },
  {
   "cell_type": "code",
   "execution_count": 37,
   "id": "dc354421",
   "metadata": {},
   "outputs": [
    {
     "name": "stdout",
     "output_type": "stream",
     "text": [
      "shape of general features (13, 4253)\n",
      "number of late labels 4166\n",
      "number of early labels 32\n",
      "number of unclassified labels 55\n"
     ]
    }
   ],
   "source": [
    "#Improved classes\n",
    "veln=np.loadtxt('./types_v2.txt') #improved classes\n",
    "colnames[7]='n/s'  #noise is now inverse defined, the general classes do not exist for all targets \n",
    "print(f\"shape of general features {np.shape(veln)}\")\n",
    "print(f\"number of late labels {np.count_nonzero(veln[12,:]==1)}\")\n",
    "print(f\"number of early labels {np.count_nonzero(veln[12,:]==2)}\")\n",
    "print(f\"number of unclassified labels {np.count_nonzero(veln[12,:]==0)}\")"
   ]
  },
  {
   "cell_type": "markdown",
   "id": "d3312d24",
   "metadata": {},
   "source": [
    "Some the features at the border are zeros. We exclude any x where a part is zero."
   ]
  },
  {
   "cell_type": "code",
   "execution_count": 4,
   "id": "44cb4608",
   "metadata": {},
   "outputs": [
    {
     "name": "stdout",
     "output_type": "stream",
     "text": [
      "data features are good from 144 to 2952\n"
     ]
    }
   ],
   "source": [
    "#Gets where there zeros and also get physical nature of x, the wavelength in micron\n",
    "#gets lower and upper border of data range\n",
    "lowb=0\n",
    "highb=0\n",
    "res=np.zeros((4,3072))\n",
    "for i in range(3072):\n",
    "    res[0,i]=i\n",
    "    res[1,i]= np.count_nonzero(x[i]==0)/cg\n",
    "    res[3,i]=1.92499995231628+i*0.000187174489838071  #wavelength in micron \n",
    "    res[2,i]=np.mean(x[i])\n",
    "    if res[1,i]==0:\n",
    "       highb=i\n",
    "       if lowb==0:\n",
    "            lowb=i    \n",
    "print(f\"data features are good from {lowb} to {highb}\")"
   ]
  },
  {
   "cell_type": "markdown",
   "id": "49dd0d24",
   "metadata": {},
   "source": [
    "Selecting now the good data features."
   ]
  },
  {
   "cell_type": "code",
   "execution_count": 5,
   "id": "cab088cf",
   "metadata": {},
   "outputs": [],
   "source": [
    "xsel=x[lowb:highb]\n",
    "#wavelength and original feature number information\n",
    "ressel=res[:,lowb:highb] "
   ]
  },
  {
   "cell_type": "markdown",
   "id": "0408f3fd",
   "metadata": {},
   "source": [
    "Example plots of features of the different classes. "
   ]
  },
  {
   "cell_type": "code",
   "execution_count": 6,
   "id": "3bdc396e",
   "metadata": {},
   "outputs": [
    {
     "data": {
      "text/plain": [
       "Text(0.5, 1.0, 'late labels')"
      ]
     },
     "execution_count": 6,
     "metadata": {},
     "output_type": "execute_result"
    },
    {
     "data": {
      "image/png": "[encoded data removed]",
      "text/plain": [
       "<Figure size 432x288 with 1 Axes>"
      ]
     },
     "metadata": {
      "needs_background": "light"
     },
     "output_type": "display_data"
    }
   ],
   "source": [
    "plt.plot(ressel[3],xsel[:,0],'-',color='black',label='example 0') \n",
    "plt.plot(ressel[3],xsel[:,20],'-',color='red',label='example 20') \n",
    "plt.plot(ressel[3],xsel[:,50],'-',color='blue',label='example 50')\n",
    "plt.legend(loc=\"best\")\n",
    "plt.xlim(1.95,2.48)\n",
    "plt.ylim(0.3,1.4)\n",
    "plt.xlabel(\"wavelength [micron]\")\n",
    "plt.ylabel(\"normalized flux\")\n",
    "plt.title(\"late labels\")"
   ]
  },
  {
   "cell_type": "code",
   "execution_count": 7,
   "id": "eee90e70",
   "metadata": {},
   "outputs": [
    {
     "name": "stdout",
     "output_type": "stream",
     "text": [
      "unclassified examples [ 256  258  442  448  449  450  454  456  460  471  498  508  517  519\n",
      "  522  523  524  526  533  538  539  541 2762 2763 2774 2963 2975 2981\n",
      " 3259 3972 3974 3990 3994 4008 4019 4059 4072 4081 4091 4124 4126 4127\n",
      " 4140 4156 4164 4166 4174 4185 4191 4201 4221 4238 4240 4242 4243]\n",
      "early examples [  12   14   40   66  108  114  176  184  228  334  428  453  592  673\n",
      "  725  734 1873 2012 2251 2869 2936 2940 3853 3902 3957 4002 4056 4092\n",
      " 4109 4110 4115 4199]\n"
     ]
    }
   ],
   "source": [
    "#getting row numners of unclassified and early\n",
    "ids=np.arange(0,np.shape(xsel)[1],1)\n",
    "print(f\"unclassified examples {ids[np.where(veln[12]==0)]}\")\n",
    "print(f\"early examples {ids[np.where(veln[12]==2)]}\")\n"
   ]
  },
  {
   "cell_type": "code",
   "execution_count": 8,
   "id": "5fbdb26c",
   "metadata": {},
   "outputs": [
    {
     "data": {
      "text/plain": [
       "Text(0.5, 1.0, 'unclassified labels')"
      ]
     },
     "execution_count": 8,
     "metadata": {},
     "output_type": "execute_result"
    },
    {
     "data": {
      "image/png": "[encoded data removed]",
      "text/plain": [
       "<Figure size 432x288 with 1 Axes>"
      ]
     },
     "metadata": {
      "needs_background": "light"
     },
     "output_type": "display_data"
    }
   ],
   "source": [
    "plt.plot(ressel[3],xsel[:,256],'-',color='black',label='example 256') \n",
    "plt.plot(ressel[3],xsel[:,258],'-',color='red',label='example 258') \n",
    "plt.plot(ressel[3],xsel[:,442],'-',color='blue',label='example 442')\n",
    "plt.legend(loc=\"best\")\n",
    "plt.xlim(1.95,2.48)\n",
    "plt.ylim(0.3,2.2)\n",
    "plt.xlabel(\"wavelength [micron]\")\n",
    "plt.ylabel(\"normalized flux\")\n",
    "plt.title(\"unclassified labels\")"
   ]
  },
  {
   "cell_type": "code",
   "execution_count": 9,
   "id": "d1a8e0f7",
   "metadata": {},
   "outputs": [
    {
     "data": {
      "text/plain": [
       "Text(0.5, 1.0, 'early labels')"
      ]
     },
     "execution_count": 9,
     "metadata": {},
     "output_type": "execute_result"
    },
    {
     "data": {
      "image/png": "[encoded data removed]",
      "text/plain": [
       "<Figure size 432x288 with 1 Axes>"
      ]
     },
     "metadata": {
      "needs_background": "light"
     },
     "output_type": "display_data"
    }
   ],
   "source": [
    "plt.plot(ressel[3],xsel[:,12],'-',color='black',label='example 12') \n",
    "plt.plot(ressel[3],xsel[:,14],'-',color='red',label='example 14') \n",
    "plt.plot(ressel[3],xsel[:,40],'-',color='blue',label='example 40')\n",
    "plt.legend(loc=\"best\")\n",
    "plt.xlim(1.95,2.48)\n",
    "plt.ylim(0.5,1.5)\n",
    "plt.xlabel(\"wavelength [micron]\")\n",
    "plt.ylabel(\"normalized flux\")\n",
    "plt.title(\"early labels\")"
   ]
  },
  {
   "cell_type": "markdown",
   "id": "ef43ac95",
   "metadata": {},
   "source": [
    "A relative large test set is used because not many sources are in the rare classes."
   ]
  },
  {
   "cell_type": "code",
   "execution_count": 10,
   "id": "287efbc1",
   "metadata": {},
   "outputs": [
    {
     "name": "stdout",
     "output_type": "stream",
     "text": [
      "shape of training features (2977, 2808)\n",
      "shape of training labels (2977,)\n"
     ]
    }
   ],
   "source": [
    "xsel_train, xsel_test, y_train, y_test, velg_train, velg_test  = train_test_split(np.transpose(xsel), veln[12], np.transpose(veln), test_size=0.3, random_state=42)\n",
    "print(f\"shape of training features {np.shape(xsel_train)}\")\n",
    "print(f\"shape of training labels {np.shape(y_train)}\")"
   ]
  },
  {
   "cell_type": "markdown",
   "id": "c585b8d3",
   "metadata": {},
   "source": [
    "We start with using the standard seetings of XCB classifier."
   ]
  },
  {
   "cell_type": "code",
   "execution_count": 11,
   "id": "0eefbec0",
   "metadata": {},
   "outputs": [
    {
     "name": "stderr",
     "output_type": "stream",
     "text": [
      "/home/tobias/anaconda3/lib/python3.8/site-packages/xgboost/sklearn.py:1224: UserWarning: The use of label encoder in XGBClassifier is deprecated and will be removed in a future release. To remove this warning, do the following: 1) Pass option use_label_encoder=False when constructing XGBClassifier object; and 2) Encode your labels (y) as integers starting with 0, i.e. 0, 1, 2, ..., [num_class - 1].\n",
      "  warnings.warn(label_encoder_deprecation_msg, UserWarning)\n"
     ]
    },
    {
     "name": "stdout",
     "output_type": "stream",
     "text": [
      "[14:24:52] WARNING: ../src/learner.cc:1115: Starting in XGBoost 1.3.0, the default evaluation metric used with the objective 'multi:softprob' was changed from 'merror' to 'mlogloss'. Explicitly set eval_metric if you'd like to restore the old behavior.\n"
     ]
    },
    {
     "data": {
      "text/plain": [
       "XGBClassifier(base_score=0.5, booster='gbtree', colsample_bylevel=1,\n",
       "              colsample_bynode=1, colsample_bytree=1, enable_categorical=False,\n",
       "              gamma=0, gpu_id=-1, importance_type=None,\n",
       "              interaction_constraints='', learning_rate=0.300000012,\n",
       "              max_delta_step=0, max_depth=6, min_child_weight=1, missing=nan,\n",
       "              monotone_constraints='()', n_estimators=100, n_jobs=8,\n",
       "              num_parallel_tree=1, objective='multi:softprob', predictor='auto',\n",
       "              random_state=0, reg_alpha=0, reg_lambda=1, scale_pos_weight=None,\n",
       "              subsample=1, tree_method='exact', validate_parameters=1,\n",
       "              verbosity=None)"
      ]
     },
     "execution_count": 11,
     "metadata": {},
     "output_type": "execute_result"
    }
   ],
   "source": [
    "model1 = XGBClassifier()\n",
    "model1.fit(xsel_train, y_train)"
   ]
  },
  {
   "cell_type": "markdown",
   "id": "c4130805",
   "metadata": {},
   "source": [
    "Getting the predictions of test and training."
   ]
  },
  {
   "cell_type": "code",
   "execution_count": 12,
   "id": "6348110d",
   "metadata": {},
   "outputs": [],
   "source": [
    "y_pred_train = model1.predict(xsel_train)\n",
    "y_pred_test = model1.predict(xsel_test)\n"
   ]
  },
  {
   "cell_type": "markdown",
   "id": "c3855c91",
   "metadata": {},
   "source": [
    "Because the sample is very unbalanced in labels, overall scores are not meaningful because they are dominated by the most common, easiest class. Instead by concentrate on the metrics of two rarest classes. First by look on the confusion matrixes."
   ]
  },
  {
   "cell_type": "code",
   "execution_count": 13,
   "id": "15541e51",
   "metadata": {},
   "outputs": [
    {
     "data": {
      "image/png": "[encoded data removed]",
      "text/plain": [
       "<Figure size 432x432 with 2 Axes>"
      ]
     },
     "metadata": {
      "needs_background": "light"
     },
     "output_type": "display_data"
    }
   ],
   "source": [
    "cm_nbtrain = confusion_matrix(y_train, y_pred_train)\n",
    "plt.figure(figsize = (6, 6));\n",
    "sns.heatmap(cm_nbtrain, annot = True, fmt = \".3f\", linewidths = .5, square = True, cmap = \"YlGnBu\"),plt.title('Training set'),plt.xlabel('Predicted Label'),plt.ylabel('True Label');"
   ]
  },
  {
   "cell_type": "code",
   "execution_count": 14,
   "id": "973221c9",
   "metadata": {},
   "outputs": [
    {
     "data": {
      "image/png": "[encoded data removed]",
      "text/plain": [
       "<Figure size 432x432 with 2 Axes>"
      ]
     },
     "metadata": {
      "needs_background": "light"
     },
     "output_type": "display_data"
    }
   ],
   "source": [
    "cm_nbtest = confusion_matrix(y_test, y_pred_test)\n",
    "plt.figure(figsize = (6, 6));\n",
    "sns.heatmap(cm_nbtest, annot = True, fmt = \".3f\", linewidths = .5, square = True, cmap = \"YlGnBu\"),plt.title('Test set'),plt.xlabel('Predicted Label'),plt.ylabel('True Label');"
   ]
  },
  {
   "cell_type": "code",
   "execution_count": 15,
   "id": "d194313d",
   "metadata": {},
   "outputs": [
    {
     "name": "stdout",
     "output_type": "stream",
     "text": [
      "precision of early in training: 1.0\n",
      "recall of early in training: 1.0\n",
      "precision of unclassified in training: 1.0\n",
      "recall of unclassified in training: 1.0\n",
      "precision of early in test: 0.5714285714285714\n",
      "recall of early in test: 0.5\n",
      "precision of unclassified in test: 0.75\n",
      "recall of unclassified in test: 0.3333333333333333\n"
     ]
    }
   ],
   "source": [
    "print(f\"precision of early in training: {cm_nbtrain[2,2]/np.sum(cm_nbtrain[:,2])}\")\n",
    "print(f\"recall of early in training: {cm_nbtrain[2,2]/np.sum(cm_nbtrain[2])}\")\n",
    "print(f\"precision of unclassified in training: {cm_nbtrain[0,0]/np.sum(cm_nbtrain[:,0])}\")\n",
    "print(f\"recall of unclassified in training: {cm_nbtrain[0,0]/np.sum(cm_nbtrain[0])}\")\n",
    "\n",
    "print(f\"precision of early in test: {cm_nbtest[2,2]/np.sum(cm_nbtest[:,2])}\")\n",
    "print(f\"recall of early in test: {cm_nbtest[2,2]/np.sum(cm_nbtest[2])}\")\n",
    "print(f\"precision of unclassified in test: {cm_nbtest[0,0]/np.sum(cm_nbtest[:,0])}\")\n",
    "print(f\"recall of unclassified in test: {cm_nbtest[0,0]/np.sum(cm_nbtest[0])}\")"
   ]
  },
  {
   "cell_type": "markdown",
   "id": "e57fd51c",
   "metadata": {},
   "source": [
    "In training the labels are perfectly predicted. In the test late is also qualified, only two truly late or predicted as different. In contrast, the prediction is less good for early and even more for unclassified. Especially, recall of unclassified is bad because the unclassified stars are wrongly classified because the class unclassfied as found by xgb is too narrow. That late is easiest is expected because late is the most abundant and most homogen class. Overall, the difference between test and tarining shows that there is overfitting. "
   ]
  },
  {
   "cell_type": "markdown",
   "id": "42cbed13",
   "metadata": {},
   "source": [
    "For counterimng overfitting the model needs to be changed. Given the few test samples best is a way with not too many free parameters. Therefore, I select subsample where there is only one parameter. "
   ]
  },
  {
   "cell_type": "code",
   "execution_count": 16,
   "id": "1bd4ae07",
   "metadata": {},
   "outputs": [
    {
     "name": "stderr",
     "output_type": "stream",
     "text": [
      "/home/tobias/anaconda3/lib/python3.8/site-packages/xgboost/sklearn.py:1224: UserWarning: The use of label encoder in XGBClassifier is deprecated and will be removed in a future release. To remove this warning, do the following: 1) Pass option use_label_encoder=False when constructing XGBClassifier object; and 2) Encode your labels (y) as integers starting with 0, i.e. 0, 1, 2, ..., [num_class - 1].\n",
      "  warnings.warn(label_encoder_deprecation_msg, UserWarning)\n"
     ]
    },
    {
     "name": "stdout",
     "output_type": "stream",
     "text": [
      "[14:25:19] WARNING: ../src/learner.cc:1115: Starting in XGBoost 1.3.0, the default evaluation metric used with the objective 'multi:softprob' was changed from 'merror' to 'mlogloss'. Explicitly set eval_metric if you'd like to restore the old behavior.\n"
     ]
    },
    {
     "data": {
      "text/plain": [
       "XGBClassifier(base_score=0.5, booster='gbtree', colsample_bylevel=1,\n",
       "              colsample_bynode=1, colsample_bytree=1, enable_categorical=False,\n",
       "              gamma=0, gpu_id=-1, importance_type=None,\n",
       "              interaction_constraints='', learning_rate=0.300000012,\n",
       "              max_delta_step=0, max_depth=6, min_child_weight=1, missing=nan,\n",
       "              monotone_constraints='()', n_estimators=100, n_jobs=8,\n",
       "              num_parallel_tree=1, objective='multi:softprob', predictor='auto',\n",
       "              random_state=0, reg_alpha=0, reg_lambda=1, scale_pos_weight=None,\n",
       "              subsample=0.5, tree_method='exact', validate_parameters=1,\n",
       "              verbosity=None)"
      ]
     },
     "execution_count": 16,
     "metadata": {},
     "output_type": "execute_result"
    }
   ],
   "source": [
    "model2 = XGBClassifier(subsample=0.5)\n",
    "model2.fit(xsel_train, y_train)"
   ]
  },
  {
   "cell_type": "code",
   "execution_count": 17,
   "id": "d679f255",
   "metadata": {},
   "outputs": [],
   "source": [
    "y2_pred_train = model2.predict(xsel_train)\n",
    "y2_pred_test = model2.predict(xsel_test)"
   ]
  },
  {
   "cell_type": "markdown",
   "id": "28d3b880",
   "metadata": {},
   "source": [
    "There are still all right in the training set and clearly less in test set. There is some improvemnt in the test set, especially for the unclassified."
   ]
  },
  {
   "cell_type": "code",
   "execution_count": 18,
   "id": "3f509b73",
   "metadata": {},
   "outputs": [
    {
     "data": {
      "image/png": "[encoded data removed]",
      "text/plain": [
       "<Figure size 432x432 with 2 Axes>"
      ]
     },
     "metadata": {
      "needs_background": "light"
     },
     "output_type": "display_data"
    }
   ],
   "source": [
    "cm_nbtrain2 = confusion_matrix(y_train, y2_pred_train)\n",
    "plt.figure(figsize = (6, 6));\n",
    "sns.heatmap(cm_nbtrain2, annot = True, fmt = \".3f\", linewidths = .5, square = True, cmap = \"YlGnBu\"),plt.title('Training set   subsample=0.5'),plt.xlabel('Predicted Label'),plt.ylabel('True Label');"
   ]
  },
  {
   "cell_type": "code",
   "execution_count": 19,
   "id": "ef5ec0c9",
   "metadata": {},
   "outputs": [
    {
     "data": {
      "image/png": "[encoded data removed]",
      "text/plain": [
       "<Figure size 432x432 with 2 Axes>"
      ]
     },
     "metadata": {
      "needs_background": "light"
     },
     "output_type": "display_data"
    }
   ],
   "source": [
    "cm_nbtest2 = confusion_matrix(y_test, y2_pred_test)\n",
    "plt.figure(figsize = (6, 6));\n",
    "sns.heatmap(cm_nbtest2, annot = True, fmt = \".3f\", linewidths = .5, square = True, cmap = \"YlGnBu\"),plt.title('Test set  sub sample=0.5'),plt.xlabel('Predicted Label'),plt.ylabel('True Label');"
   ]
  },
  {
   "cell_type": "code",
   "execution_count": 20,
   "id": "35d79ee5",
   "metadata": {},
   "outputs": [
    {
     "name": "stdout",
     "output_type": "stream",
     "text": [
      "precision of early in training: 1.0\n",
      "recall of early in training: 1.0\n",
      "precision of unclassified in training: 1.0\n",
      "recall of unclassified in training: 1.0\n",
      "precision of early in test: 0.5\n",
      "recall of early in test: 0.625\n",
      "precision of unclassified in test: 0.8\n",
      "recall of unclassified in test: 0.4444444444444444\n"
     ]
    }
   ],
   "source": [
    "print(f\"precision of early in training: {cm_nbtrain2[2,2]/np.sum(cm_nbtrain2[:,2])}\")\n",
    "print(f\"recall of early in training: {cm_nbtrain2[2,2]/np.sum(cm_nbtrain2[2])}\")\n",
    "print(f\"precision of unclassified in training: {cm_nbtrain2[0,0]/np.sum(cm_nbtrain2[:,0])}\")\n",
    "print(f\"recall of unclassified in training: {cm_nbtrain2[0,0]/np.sum(cm_nbtrain2[0])}\")\n",
    "\n",
    "print(f\"precision of early in test: {cm_nbtest2[2,2]/np.sum(cm_nbtest2[:,2])}\")\n",
    "print(f\"recall of early in test: {cm_nbtest2[2,2]/np.sum(cm_nbtest2[2])}\")\n",
    "print(f\"precision of unclassified in test: {cm_nbtest2[0,0]/np.sum(cm_nbtest2[:,0])}\")\n",
    "print(f\"recall of unclassified in test: {cm_nbtest2[0,0]/np.sum(cm_nbtest2[0])}\")"
   ]
  },
  {
   "cell_type": "code",
   "execution_count": 95,
   "id": "4048b751",
   "metadata": {},
   "outputs": [],
   "source": [
    "#getting f1 score of one label xfrom confusing matrix \n",
    "def fmeas(conf_matrix,x):\n",
    "    if np.sum(conf_matrix[:,x])==0:\n",
    "        prec=0\n",
    "    else:\n",
    "        prec=conf_matrix[x,x]/np.sum(conf_matrix[:,x])\n",
    "    if np.sum(conf_matrix[x])==0:\n",
    "        rec=0\n",
    "    else:\n",
    "        rec=conf_matrix[x,x]/np.sum(conf_matrix[x])\n",
    "\n",
    "    if prec==0 and rec==0:\n",
    "        f1=0\n",
    "    else:\n",
    "        prec=conf_matrix[x,x]/np.sum(conf_matrix[:,x])\n",
    "        rec=conf_matrix[x,x]/np.sum(conf_matrix[x])\n",
    "        f1=(2*prec*rec)/(prec+rec)\n",
    "    return f1"
   ]
  },
  {
   "cell_type": "markdown",
   "id": "468e1a88",
   "metadata": {},
   "source": [
    "To explore the subsample paramter more we run more models systematically."
   ]
  },
  {
   "cell_type": "code",
   "execution_count": 22,
   "id": "1889d05d",
   "metadata": {},
   "outputs": [],
   "source": [
    "#In ress the are summariyed using the F1 score. \n",
    "#First the f1 score of the current models early and unclassufied and their average \n",
    "ress=np.zeros((7,10))\n",
    "ress[0,0]=1.0\n",
    "ress[1,0]=fmeas(cm_nbtrain,int(2))\n",
    "ress[2,0]=fmeas(cm_nbtrain,int(0))\n",
    "ress[3,0]=(ress[1,0]+ress[2,0])/2\n",
    "ress[4,0]=fmeas(cm_nbtest,int(2))\n",
    "ress[5,0]=fmeas(cm_nbtest,int(0))\n",
    "ress[6,0]=(ress[4,0]+ress[5,0])/2\n",
    "ress[0,1]=0.5\n",
    "ress[1,1]=fmeas(cm_nbtrain2,int(2))\n",
    "ress[2,1]=fmeas(cm_nbtrain2,int(0))\n",
    "ress[3,1]=(ress[1,1]+ress[2,1])/2\n",
    "ress[4,1]=fmeas(cm_nbtest2,int(2))\n",
    "ress[5,1]=fmeas(cm_nbtest2,int(0))\n",
    "ress[6,1]=(ress[4,1]+ress[5,1])/2\n",
    "#defining the further subsample values\n",
    "ress[0,2]=0.33\n",
    "ress[0,3]=0.2\n",
    "ress[0,4]=0.14\n",
    "ress[0,5]=0.1\n",
    "ress[0,6]=0.07\n",
    "ress[0,7]=0.05\n",
    "ress[0,8]=0.04\n",
    "ress[0,9]=0.03"
   ]
  },
  {
   "cell_type": "code",
   "execution_count": 23,
   "id": "25ec59af",
   "metadata": {},
   "outputs": [
    {
     "name": "stdout",
     "output_type": "stream",
     "text": [
      "2\n",
      "subsample of 0.33\n"
     ]
    },
    {
     "name": "stderr",
     "output_type": "stream",
     "text": [
      "/home/tobias/anaconda3/lib/python3.8/site-packages/xgboost/sklearn.py:1224: UserWarning: The use of label encoder in XGBClassifier is deprecated and will be removed in a future release. To remove this warning, do the following: 1) Pass option use_label_encoder=False when constructing XGBClassifier object; and 2) Encode your labels (y) as integers starting with 0, i.e. 0, 1, 2, ..., [num_class - 1].\n",
      "  warnings.warn(label_encoder_deprecation_msg, UserWarning)\n"
     ]
    },
    {
     "name": "stdout",
     "output_type": "stream",
     "text": [
      "[14:25:41] WARNING: ../src/learner.cc:1115: Starting in XGBoost 1.3.0, the default evaluation metric used with the objective 'multi:softprob' was changed from 'merror' to 'mlogloss'. Explicitly set eval_metric if you'd like to restore the old behavior.\n",
      "3\n",
      "subsample of 0.2\n"
     ]
    },
    {
     "name": "stderr",
     "output_type": "stream",
     "text": [
      "/home/tobias/anaconda3/lib/python3.8/site-packages/xgboost/sklearn.py:1224: UserWarning: The use of label encoder in XGBClassifier is deprecated and will be removed in a future release. To remove this warning, do the following: 1) Pass option use_label_encoder=False when constructing XGBClassifier object; and 2) Encode your labels (y) as integers starting with 0, i.e. 0, 1, 2, ..., [num_class - 1].\n",
      "  warnings.warn(label_encoder_deprecation_msg, UserWarning)\n"
     ]
    },
    {
     "name": "stdout",
     "output_type": "stream",
     "text": [
      "[14:25:50] WARNING: ../src/learner.cc:1115: Starting in XGBoost 1.3.0, the default evaluation metric used with the objective 'multi:softprob' was changed from 'merror' to 'mlogloss'. Explicitly set eval_metric if you'd like to restore the old behavior.\n",
      "4\n",
      "subsample of 0.14\n"
     ]
    },
    {
     "name": "stderr",
     "output_type": "stream",
     "text": [
      "/home/tobias/anaconda3/lib/python3.8/site-packages/xgboost/sklearn.py:1224: UserWarning: The use of label encoder in XGBClassifier is deprecated and will be removed in a future release. To remove this warning, do the following: 1) Pass option use_label_encoder=False when constructing XGBClassifier object; and 2) Encode your labels (y) as integers starting with 0, i.e. 0, 1, 2, ..., [num_class - 1].\n",
      "  warnings.warn(label_encoder_deprecation_msg, UserWarning)\n"
     ]
    },
    {
     "name": "stdout",
     "output_type": "stream",
     "text": [
      "[14:25:58] WARNING: ../src/learner.cc:1115: Starting in XGBoost 1.3.0, the default evaluation metric used with the objective 'multi:softprob' was changed from 'merror' to 'mlogloss'. Explicitly set eval_metric if you'd like to restore the old behavior.\n",
      "5\n",
      "subsample of 0.1\n"
     ]
    },
    {
     "name": "stderr",
     "output_type": "stream",
     "text": [
      "/home/tobias/anaconda3/lib/python3.8/site-packages/xgboost/sklearn.py:1224: UserWarning: The use of label encoder in XGBClassifier is deprecated and will be removed in a future release. To remove this warning, do the following: 1) Pass option use_label_encoder=False when constructing XGBClassifier object; and 2) Encode your labels (y) as integers starting with 0, i.e. 0, 1, 2, ..., [num_class - 1].\n",
      "  warnings.warn(label_encoder_deprecation_msg, UserWarning)\n"
     ]
    },
    {
     "name": "stdout",
     "output_type": "stream",
     "text": [
      "[14:26:05] WARNING: ../src/learner.cc:1115: Starting in XGBoost 1.3.0, the default evaluation metric used with the objective 'multi:softprob' was changed from 'merror' to 'mlogloss'. Explicitly set eval_metric if you'd like to restore the old behavior.\n",
      "6\n",
      "subsample of 0.07\n"
     ]
    },
    {
     "name": "stderr",
     "output_type": "stream",
     "text": [
      "/home/tobias/anaconda3/lib/python3.8/site-packages/xgboost/sklearn.py:1224: UserWarning: The use of label encoder in XGBClassifier is deprecated and will be removed in a future release. To remove this warning, do the following: 1) Pass option use_label_encoder=False when constructing XGBClassifier object; and 2) Encode your labels (y) as integers starting with 0, i.e. 0, 1, 2, ..., [num_class - 1].\n",
      "  warnings.warn(label_encoder_deprecation_msg, UserWarning)\n"
     ]
    },
    {
     "name": "stdout",
     "output_type": "stream",
     "text": [
      "[14:26:09] WARNING: ../src/learner.cc:1115: Starting in XGBoost 1.3.0, the default evaluation metric used with the objective 'multi:softprob' was changed from 'merror' to 'mlogloss'. Explicitly set eval_metric if you'd like to restore the old behavior.\n",
      "7\n",
      "subsample of 0.05\n"
     ]
    },
    {
     "name": "stderr",
     "output_type": "stream",
     "text": [
      "/home/tobias/anaconda3/lib/python3.8/site-packages/xgboost/sklearn.py:1224: UserWarning: The use of label encoder in XGBClassifier is deprecated and will be removed in a future release. To remove this warning, do the following: 1) Pass option use_label_encoder=False when constructing XGBClassifier object; and 2) Encode your labels (y) as integers starting with 0, i.e. 0, 1, 2, ..., [num_class - 1].\n",
      "  warnings.warn(label_encoder_deprecation_msg, UserWarning)\n"
     ]
    },
    {
     "name": "stdout",
     "output_type": "stream",
     "text": [
      "[14:26:13] WARNING: ../src/learner.cc:1115: Starting in XGBoost 1.3.0, the default evaluation metric used with the objective 'multi:softprob' was changed from 'merror' to 'mlogloss'. Explicitly set eval_metric if you'd like to restore the old behavior.\n",
      "8\n",
      "subsample of 0.04\n"
     ]
    },
    {
     "name": "stderr",
     "output_type": "stream",
     "text": [
      "/home/tobias/anaconda3/lib/python3.8/site-packages/xgboost/sklearn.py:1224: UserWarning: The use of label encoder in XGBClassifier is deprecated and will be removed in a future release. To remove this warning, do the following: 1) Pass option use_label_encoder=False when constructing XGBClassifier object; and 2) Encode your labels (y) as integers starting with 0, i.e. 0, 1, 2, ..., [num_class - 1].\n",
      "  warnings.warn(label_encoder_deprecation_msg, UserWarning)\n"
     ]
    },
    {
     "name": "stdout",
     "output_type": "stream",
     "text": [
      "[14:26:17] WARNING: ../src/learner.cc:1115: Starting in XGBoost 1.3.0, the default evaluation metric used with the objective 'multi:softprob' was changed from 'merror' to 'mlogloss'. Explicitly set eval_metric if you'd like to restore the old behavior.\n",
      "9\n",
      "subsample of 0.03\n"
     ]
    },
    {
     "name": "stderr",
     "output_type": "stream",
     "text": [
      "/home/tobias/anaconda3/lib/python3.8/site-packages/xgboost/sklearn.py:1224: UserWarning: The use of label encoder in XGBClassifier is deprecated and will be removed in a future release. To remove this warning, do the following: 1) Pass option use_label_encoder=False when constructing XGBClassifier object; and 2) Encode your labels (y) as integers starting with 0, i.e. 0, 1, 2, ..., [num_class - 1].\n",
      "  warnings.warn(label_encoder_deprecation_msg, UserWarning)\n"
     ]
    },
    {
     "name": "stdout",
     "output_type": "stream",
     "text": [
      "[14:26:21] WARNING: ../src/learner.cc:1115: Starting in XGBoost 1.3.0, the default evaluation metric used with the objective 'multi:softprob' was changed from 'merror' to 'mlogloss'. Explicitly set eval_metric if you'd like to restore the old behavior.\n"
     ]
    },
    {
     "name": "stderr",
     "output_type": "stream",
     "text": [
      "<ipython-input-21-fb80d8345dd9>:5: RuntimeWarning: invalid value encountered in double_scalars\n",
      "  f1=(2*prec*rec)/(prec+rec)\n"
     ]
    }
   ],
   "source": [
    "#running for more subsample values\n",
    "for i in range(2,10):\n",
    "    print(i)\n",
    "    print(f\"subsample of {ress[0,i]}\")\n",
    "    model3 = XGBClassifier(subsample=ress[0,i])  \n",
    "    model3.fit(xsel_train,y_train)\n",
    "    y3_pred_train = model3.predict(xsel_train)\n",
    "    y3_pred_test = model3.predict(xsel_test)\n",
    "    cm_nbtrain3 = confusion_matrix(y_train, y3_pred_train)\n",
    "    cm_nbtest3 = confusion_matrix(y_test, y3_pred_test)\n",
    "    ress[1,i]=fmeas(cm_nbtrain3,int(2))\n",
    "    ress[2,i]=fmeas(cm_nbtrain3,int(0))\n",
    "    ress[3,i]=(ress[1,i]+ress[2,i])/2\n",
    "    ress[4,i]=fmeas(cm_nbtest3,int(2))\n",
    "    ress[5,i]=fmeas(cm_nbtest3,int(0))\n",
    "    ress[6,i]=(ress[4,i]+ress[5,i])/2"
   ]
  },
  {
   "cell_type": "markdown",
   "id": "0e5c8bda",
   "metadata": {},
   "source": [
    "In training the score decreases continiously wuth subsample size. A sample of 0.03 leads no found early cases, because then usualy no examples are in a three. Unclassified performs still better in training in this case. In the test sample the evolution of the F1-score is usually smaller overall and it is noisy with up and downs. The optimum values is different for unclassified and early. Overall the score is rather flat. Large sumsample perform worse but between 0.04 0.33 there is no clear preferance, all achive about 0.6 as F1-score. "
   ]
  },
  {
   "cell_type": "code",
   "execution_count": 24,
   "id": "cb0dc00c",
   "metadata": {},
   "outputs": [
    {
     "data": {
      "text/plain": [
       "Text(0, 0.5, 'F1-score')"
      ]
     },
     "execution_count": 24,
     "metadata": {},
     "output_type": "execute_result"
    },
    {
     "data": {
      "image/png": "[encoded data removed]",
      "text/plain": [
       "<Figure size 432x288 with 1 Axes>"
      ]
     },
     "metadata": {
      "needs_background": "light"
     },
     "output_type": "display_data"
    }
   ],
   "source": [
    "plt.plot(ress[0],ress[3],'o',ms=15,color='orange',label='train both') \n",
    "plt.plot(ress[0],ress[2],'x',ms=15,color='gray',label='train unclassified') \n",
    "plt.plot(ress[0],ress[1],'*',ms=15,color='cyan',label='train early') \n",
    "plt.plot(ress[0],ress[6],'o',color='red',label='test both') \n",
    "plt.plot(ress[0],ress[5],'x',color='black',label='test unclassified') \n",
    "plt.plot(ress[0],ress[4],'*',color='blue',label='test early') \n",
    "plt.legend(loc=\"best\")\n",
    "plt.xlabel(\"subsample\")\n",
    "plt.xscale(\"log\")\n",
    "plt.ylabel(\"F1-score\")"
   ]
  },
  {
   "cell_type": "markdown",
   "id": "670941ca",
   "metadata": {},
   "source": [
    "Using different weights for the classes should improve performance, but currently, it does not. It gets the same results\n",
    "like means some coding is wrong. "
   ]
  },
  {
   "cell_type": "code",
   "execution_count": 25,
   "id": "b3d00f49",
   "metadata": {},
   "outputs": [
    {
     "name": "stdout",
     "output_type": "stream",
     "text": [
      "0.3403063557384545\n",
      "41.34722222222222\n"
     ]
    }
   ],
   "source": [
    "classes_weights = class_weight.compute_sample_weight(\n",
    "    class_weight='balanced',\n",
    "    y=y_train\n",
    ")\n",
    "print(np.min(classes_weights))\n",
    "print(np.max(classes_weights))"
   ]
  },
  {
   "cell_type": "code",
   "execution_count": 26,
   "id": "2a98a2d1",
   "metadata": {},
   "outputs": [
    {
     "name": "stderr",
     "output_type": "stream",
     "text": [
      "/home/tobias/anaconda3/lib/python3.8/site-packages/xgboost/sklearn.py:1224: UserWarning: The use of label encoder in XGBClassifier is deprecated and will be removed in a future release. To remove this warning, do the following: 1) Pass option use_label_encoder=False when constructing XGBClassifier object; and 2) Encode your labels (y) as integers starting with 0, i.e. 0, 1, 2, ..., [num_class - 1].\n",
      "  warnings.warn(label_encoder_deprecation_msg, UserWarning)\n"
     ]
    },
    {
     "name": "stdout",
     "output_type": "stream",
     "text": [
      "[14:26:39] WARNING: ../src/learner.cc:1115: Starting in XGBoost 1.3.0, the default evaluation metric used with the objective 'multi:softprob' was changed from 'merror' to 'mlogloss'. Explicitly set eval_metric if you'd like to restore the old behavior.\n"
     ]
    },
    {
     "data": {
      "text/plain": [
       "XGBClassifier(base_score=0.5, booster='gbtree', colsample_bylevel=1,\n",
       "              colsample_bynode=1, colsample_bytree=1, enable_categorical=False,\n",
       "              gamma=0, gpu_id=-1, importance_type=None,\n",
       "              interaction_constraints='', learning_rate=0.300000012,\n",
       "              max_delta_step=0, max_depth=6, min_child_weight=1, missing=nan,\n",
       "              monotone_constraints='()', n_estimators=100, n_jobs=8,\n",
       "              num_parallel_tree=1, objective='multi:softprob', predictor='auto',\n",
       "              random_state=0, reg_alpha=0, reg_lambda=1, scale_pos_weight=None,\n",
       "              subsample=0.5, tree_method='exact', validate_parameters=1,\n",
       "              verbosity=None)"
      ]
     },
     "execution_count": 26,
     "metadata": {},
     "output_type": "execute_result"
    }
   ],
   "source": [
    "xgb_classifier8 = xgb.XGBClassifier(subsample=0.5)\n",
    "xgb_classifier8.fit(xsel_train, y_train, sample_weight=classes_weights)"
   ]
  },
  {
   "cell_type": "code",
   "execution_count": 27,
   "id": "44a86ff2",
   "metadata": {},
   "outputs": [],
   "source": [
    "y8_pred_train = xgb_classifier8.predict(xsel_train)\n",
    "y8_pred_test = xgb_classifier8.predict(xsel_test)"
   ]
  },
  {
   "cell_type": "code",
   "execution_count": 28,
   "id": "f5126dcb",
   "metadata": {},
   "outputs": [
    {
     "data": {
      "image/png": "[encoded data removed]",
      "text/plain": [
       "<Figure size 432x432 with 2 Axes>"
      ]
     },
     "metadata": {
      "needs_background": "light"
     },
     "output_type": "display_data"
    }
   ],
   "source": [
    "cm_nbtrain8 = confusion_matrix(y_train, y8_pred_train)\n",
    "plt.figure(figsize = (6, 6));\n",
    "sns.heatmap(cm_nbtrain8, annot = True, fmt = \".3f\", linewidths = .5, square = True, cmap = \"YlGnBu\"),plt.title('Training set'),plt.xlabel('Predicted Label'),plt.ylabel('True Label');"
   ]
  },
  {
   "cell_type": "code",
   "execution_count": 29,
   "id": "a01a0b5c",
   "metadata": {},
   "outputs": [
    {
     "name": "stdout",
     "output_type": "stream",
     "text": [
      "[[ 2  1 -3]\n",
      " [ 1 -3  2]\n",
      " [-1 -1  2]]\n"
     ]
    },
    {
     "data": {
      "image/png": "[encoded data removed]",
      "text/plain": [
       "<Figure size 432x432 with 2 Axes>"
      ]
     },
     "metadata": {
      "needs_background": "light"
     },
     "output_type": "display_data"
    }
   ],
   "source": [
    "cm_nbtest8 = confusion_matrix(y_test, y8_pred_test)\n",
    "plt.figure(figsize = (6, 6));\n",
    "sns.heatmap(cm_nbtest8, annot = True, fmt = \".3f\", linewidths = .5, square = True, cmap = \"YlGnBu\"),plt.title('Test set'),plt.xlabel('Predicted Label'),plt.ylabel('True Label');\n",
    "print(cm_nbtest8-cm_nbtest2)  "
   ]
  },
  {
   "cell_type": "markdown",
   "id": "32cc4f37",
   "metadata": {},
   "source": [
    "Using weights in the fitting improves performance in the measures for the rare classes as it should be. The number of right classfication increases by two for both unclassified and early. In the late category 3 more are now qrong classified, but still 1345 of 1250 are correctly classified, clearly outweightung the wrong classifications. "
   ]
  },
  {
   "cell_type": "markdown",
   "id": "a92c8570",
   "metadata": {},
   "source": [
    "We now run weighted for all the same subsamples fraction as before. "
   ]
  },
  {
   "cell_type": "code",
   "execution_count": 30,
   "id": "b15f4c9c",
   "metadata": {},
   "outputs": [
    {
     "name": "stdout",
     "output_type": "stream",
     "text": [
      "[1.   0.5  0.33 0.2  0.14 0.1  0.07 0.05 0.04 0.03]\n"
     ]
    }
   ],
   "source": [
    "ress2=np.zeros((7,10))\n",
    "ress2[0,:]=ress[0,:]\n",
    "print(ress2[0,:])"
   ]
  },
  {
   "cell_type": "code",
   "execution_count": 31,
   "id": "bd63b731",
   "metadata": {},
   "outputs": [
    {
     "name": "stdout",
     "output_type": "stream",
     "text": [
      "sub sample of 1.0\n"
     ]
    },
    {
     "name": "stderr",
     "output_type": "stream",
     "text": [
      "/home/tobias/anaconda3/lib/python3.8/site-packages/xgboost/sklearn.py:1224: UserWarning: The use of label encoder in XGBClassifier is deprecated and will be removed in a future release. To remove this warning, do the following: 1) Pass option use_label_encoder=False when constructing XGBClassifier object; and 2) Encode your labels (y) as integers starting with 0, i.e. 0, 1, 2, ..., [num_class - 1].\n",
      "  warnings.warn(label_encoder_deprecation_msg, UserWarning)\n"
     ]
    },
    {
     "name": "stdout",
     "output_type": "stream",
     "text": [
      "[14:26:59] WARNING: ../src/learner.cc:1115: Starting in XGBoost 1.3.0, the default evaluation metric used with the objective 'multi:softprob' was changed from 'merror' to 'mlogloss'. Explicitly set eval_metric if you'd like to restore the old behavior.\n",
      "sub sample of 0.5\n"
     ]
    },
    {
     "name": "stderr",
     "output_type": "stream",
     "text": [
      "/home/tobias/anaconda3/lib/python3.8/site-packages/xgboost/sklearn.py:1224: UserWarning: The use of label encoder in XGBClassifier is deprecated and will be removed in a future release. To remove this warning, do the following: 1) Pass option use_label_encoder=False when constructing XGBClassifier object; and 2) Encode your labels (y) as integers starting with 0, i.e. 0, 1, 2, ..., [num_class - 1].\n",
      "  warnings.warn(label_encoder_deprecation_msg, UserWarning)\n"
     ]
    },
    {
     "name": "stdout",
     "output_type": "stream",
     "text": [
      "[14:27:17] WARNING: ../src/learner.cc:1115: Starting in XGBoost 1.3.0, the default evaluation metric used with the objective 'multi:softprob' was changed from 'merror' to 'mlogloss'. Explicitly set eval_metric if you'd like to restore the old behavior.\n",
      "sub sample of 0.33\n"
     ]
    },
    {
     "name": "stderr",
     "output_type": "stream",
     "text": [
      "/home/tobias/anaconda3/lib/python3.8/site-packages/xgboost/sklearn.py:1224: UserWarning: The use of label encoder in XGBClassifier is deprecated and will be removed in a future release. To remove this warning, do the following: 1) Pass option use_label_encoder=False when constructing XGBClassifier object; and 2) Encode your labels (y) as integers starting with 0, i.e. 0, 1, 2, ..., [num_class - 1].\n",
      "  warnings.warn(label_encoder_deprecation_msg, UserWarning)\n"
     ]
    },
    {
     "name": "stdout",
     "output_type": "stream",
     "text": [
      "[14:27:35] WARNING: ../src/learner.cc:1115: Starting in XGBoost 1.3.0, the default evaluation metric used with the objective 'multi:softprob' was changed from 'merror' to 'mlogloss'. Explicitly set eval_metric if you'd like to restore the old behavior.\n",
      "sub sample of 0.2\n"
     ]
    },
    {
     "name": "stderr",
     "output_type": "stream",
     "text": [
      "/home/tobias/anaconda3/lib/python3.8/site-packages/xgboost/sklearn.py:1224: UserWarning: The use of label encoder in XGBClassifier is deprecated and will be removed in a future release. To remove this warning, do the following: 1) Pass option use_label_encoder=False when constructing XGBClassifier object; and 2) Encode your labels (y) as integers starting with 0, i.e. 0, 1, 2, ..., [num_class - 1].\n",
      "  warnings.warn(label_encoder_deprecation_msg, UserWarning)\n"
     ]
    },
    {
     "name": "stdout",
     "output_type": "stream",
     "text": [
      "[14:27:51] WARNING: ../src/learner.cc:1115: Starting in XGBoost 1.3.0, the default evaluation metric used with the objective 'multi:softprob' was changed from 'merror' to 'mlogloss'. Explicitly set eval_metric if you'd like to restore the old behavior.\n",
      "sub sample of 0.14\n"
     ]
    },
    {
     "name": "stderr",
     "output_type": "stream",
     "text": [
      "/home/tobias/anaconda3/lib/python3.8/site-packages/xgboost/sklearn.py:1224: UserWarning: The use of label encoder in XGBClassifier is deprecated and will be removed in a future release. To remove this warning, do the following: 1) Pass option use_label_encoder=False when constructing XGBClassifier object; and 2) Encode your labels (y) as integers starting with 0, i.e. 0, 1, 2, ..., [num_class - 1].\n",
      "  warnings.warn(label_encoder_deprecation_msg, UserWarning)\n"
     ]
    },
    {
     "name": "stdout",
     "output_type": "stream",
     "text": [
      "[14:28:10] WARNING: ../src/learner.cc:1115: Starting in XGBoost 1.3.0, the default evaluation metric used with the objective 'multi:softprob' was changed from 'merror' to 'mlogloss'. Explicitly set eval_metric if you'd like to restore the old behavior.\n",
      "sub sample of 0.1\n"
     ]
    },
    {
     "name": "stderr",
     "output_type": "stream",
     "text": [
      "/home/tobias/anaconda3/lib/python3.8/site-packages/xgboost/sklearn.py:1224: UserWarning: The use of label encoder in XGBClassifier is deprecated and will be removed in a future release. To remove this warning, do the following: 1) Pass option use_label_encoder=False when constructing XGBClassifier object; and 2) Encode your labels (y) as integers starting with 0, i.e. 0, 1, 2, ..., [num_class - 1].\n",
      "  warnings.warn(label_encoder_deprecation_msg, UserWarning)\n"
     ]
    },
    {
     "name": "stdout",
     "output_type": "stream",
     "text": [
      "[14:28:22] WARNING: ../src/learner.cc:1115: Starting in XGBoost 1.3.0, the default evaluation metric used with the objective 'multi:softprob' was changed from 'merror' to 'mlogloss'. Explicitly set eval_metric if you'd like to restore the old behavior.\n",
      "sub sample of 0.07\n"
     ]
    },
    {
     "name": "stderr",
     "output_type": "stream",
     "text": [
      "/home/tobias/anaconda3/lib/python3.8/site-packages/xgboost/sklearn.py:1224: UserWarning: The use of label encoder in XGBClassifier is deprecated and will be removed in a future release. To remove this warning, do the following: 1) Pass option use_label_encoder=False when constructing XGBClassifier object; and 2) Encode your labels (y) as integers starting with 0, i.e. 0, 1, 2, ..., [num_class - 1].\n",
      "  warnings.warn(label_encoder_deprecation_msg, UserWarning)\n"
     ]
    },
    {
     "name": "stdout",
     "output_type": "stream",
     "text": [
      "[14:28:35] WARNING: ../src/learner.cc:1115: Starting in XGBoost 1.3.0, the default evaluation metric used with the objective 'multi:softprob' was changed from 'merror' to 'mlogloss'. Explicitly set eval_metric if you'd like to restore the old behavior.\n",
      "sub sample of 0.05\n"
     ]
    },
    {
     "name": "stderr",
     "output_type": "stream",
     "text": [
      "/home/tobias/anaconda3/lib/python3.8/site-packages/xgboost/sklearn.py:1224: UserWarning: The use of label encoder in XGBClassifier is deprecated and will be removed in a future release. To remove this warning, do the following: 1) Pass option use_label_encoder=False when constructing XGBClassifier object; and 2) Encode your labels (y) as integers starting with 0, i.e. 0, 1, 2, ..., [num_class - 1].\n",
      "  warnings.warn(label_encoder_deprecation_msg, UserWarning)\n"
     ]
    },
    {
     "name": "stdout",
     "output_type": "stream",
     "text": [
      "[14:28:46] WARNING: ../src/learner.cc:1115: Starting in XGBoost 1.3.0, the default evaluation metric used with the objective 'multi:softprob' was changed from 'merror' to 'mlogloss'. Explicitly set eval_metric if you'd like to restore the old behavior.\n",
      "sub sample of 0.04\n"
     ]
    },
    {
     "name": "stderr",
     "output_type": "stream",
     "text": [
      "/home/tobias/anaconda3/lib/python3.8/site-packages/xgboost/sklearn.py:1224: UserWarning: The use of label encoder in XGBClassifier is deprecated and will be removed in a future release. To remove this warning, do the following: 1) Pass option use_label_encoder=False when constructing XGBClassifier object; and 2) Encode your labels (y) as integers starting with 0, i.e. 0, 1, 2, ..., [num_class - 1].\n",
      "  warnings.warn(label_encoder_deprecation_msg, UserWarning)\n"
     ]
    },
    {
     "name": "stdout",
     "output_type": "stream",
     "text": [
      "[14:28:55] WARNING: ../src/learner.cc:1115: Starting in XGBoost 1.3.0, the default evaluation metric used with the objective 'multi:softprob' was changed from 'merror' to 'mlogloss'. Explicitly set eval_metric if you'd like to restore the old behavior.\n",
      "sub sample of 0.03\n"
     ]
    },
    {
     "name": "stderr",
     "output_type": "stream",
     "text": [
      "/home/tobias/anaconda3/lib/python3.8/site-packages/xgboost/sklearn.py:1224: UserWarning: The use of label encoder in XGBClassifier is deprecated and will be removed in a future release. To remove this warning, do the following: 1) Pass option use_label_encoder=False when constructing XGBClassifier object; and 2) Encode your labels (y) as integers starting with 0, i.e. 0, 1, 2, ..., [num_class - 1].\n",
      "  warnings.warn(label_encoder_deprecation_msg, UserWarning)\n"
     ]
    },
    {
     "name": "stdout",
     "output_type": "stream",
     "text": [
      "[14:29:02] WARNING: ../src/learner.cc:1115: Starting in XGBoost 1.3.0, the default evaluation metric used with the objective 'multi:softprob' was changed from 'merror' to 'mlogloss'. Explicitly set eval_metric if you'd like to restore the old behavior.\n"
     ]
    }
   ],
   "source": [
    "for i in range(10):\n",
    "    print(f\"sub sample of {ress2[0,i]}\")\n",
    "    xgb_classifier9 = xgb.XGBClassifier(subsample=ress2[0,i])\n",
    "    xgb_classifier9.fit(xsel_train, y_train, sample_weight=classes_weights)\n",
    "    y9_pred_train = xgb_classifier9.predict(xsel_train)\n",
    "    y9_pred_test = xgb_classifier9.predict(xsel_test)\n",
    "    cm_nbtrain9 = confusion_matrix(y_train, y9_pred_train)\n",
    "    cm_nbtest9 = confusion_matrix(y_test, y9_pred_test)\n",
    "    ress2[1,i]=fmeas(cm_nbtrain9,int(2))\n",
    "    ress2[2,i]=fmeas(cm_nbtrain9,int(0))\n",
    "    ress2[3,i]=(ress2[1,i]+ress2[2,i])/2\n",
    "    ress2[4,i]=fmeas(cm_nbtest9,int(2))\n",
    "    ress2[5,i]=fmeas(cm_nbtest9,int(0))\n",
    "    ress2[6,i]=(ress2[4,i]+ress2[5,i])/2"
   ]
  },
  {
   "cell_type": "markdown",
   "id": "5c081136",
   "metadata": {},
   "source": [
    "Sub sample of 0.5 performs best for early and is also close to best for unclassified. In principle it still overfits the training data but when that is not anymore the care (below subsample of 0.1), the performance ob the test data is also worse."
   ]
  },
  {
   "cell_type": "code",
   "execution_count": 32,
   "id": "7ace5d96",
   "metadata": {},
   "outputs": [
    {
     "data": {
      "text/plain": [
       "Text(0.5, 1.0, 'weighted fits')"
      ]
     },
     "execution_count": 32,
     "metadata": {},
     "output_type": "execute_result"
    },
    {
     "data": {
      "image/png": "[encoded data removed]",
      "text/plain": [
       "<Figure size 432x288 with 1 Axes>"
      ]
     },
     "metadata": {
      "needs_background": "light"
     },
     "output_type": "display_data"
    }
   ],
   "source": [
    "plt.plot(ress2[0],ress2[3],'o',ms=15,color='orange',label='train both') \n",
    "plt.plot(ress2[0],ress2[2],'x',ms=15,color='gray',label='train unclassified') \n",
    "plt.plot(ress2[0],ress2[1],'*',ms=15,color='cyan',label='train early') \n",
    "plt.plot(ress2[0],ress2[6],'o',color='red',label='test both') \n",
    "plt.plot(ress2[0],ress2[5],'x',color='black',label='test unclassified') \n",
    "plt.plot(ress2[0],ress2[4],'*',color='blue',label='test early') \n",
    "plt.legend(loc=\"best\")\n",
    "plt.xlabel(\"subsample\")\n",
    "plt.xscale(\"log\")\n",
    "plt.ylabel(\"F1-score\")\n",
    "plt.title(\"weighted fits\")"
   ]
  },
  {
   "cell_type": "code",
   "execution_count": 33,
   "id": "c6d0d978",
   "metadata": {},
   "outputs": [
    {
     "data": {
      "text/plain": [
       "Text(0, 0.5, 'test F1-score')"
      ]
     },
     "execution_count": 33,
     "metadata": {},
     "output_type": "execute_result"
    },
    {
     "data": {
      "image/png": "[encoded data removed]",
      "text/plain": [
       "<Figure size 432x288 with 1 Axes>"
      ]
     },
     "metadata": {
      "needs_background": "light"
     },
     "output_type": "display_data"
    }
   ],
   "source": [
    "plt.plot(ress2[0],ress2[6],'o',color='orange',label='weighted both') \n",
    "plt.plot(ress2[0],ress2[5],'x',color='gray',label='weighted unclassified') \n",
    "plt.plot(ress2[0],ress2[4],'*',color='cyan',label='weighted early') \n",
    "plt.plot(ress[0],ress[6],'o',color='red',label='unweighted both') \n",
    "plt.plot(ress[0],ress[5],'x',color='black',label='unweighted unclassified') \n",
    "plt.plot(ress[0],ress[4],'*',color='blue',label='unweighted early') \n",
    "plt.legend(loc=\"best\")\n",
    "plt.xlabel(\"subsample\")\n",
    "plt.xscale(\"log\")\n",
    "plt.ylabel(\"test F1-score\")"
   ]
  },
  {
   "cell_type": "markdown",
   "id": "eae38464",
   "metadata": {},
   "source": [
    "Intrinsic noisy (random variation between neighboring features) clearly affects the data is a a main reason for unclassified classifications. XGB has likely difficult to recognize that because the sample of unclassfied is too small that it can recognize it from the data. There now the noise is added as an additional feature. The noise is the standard deviation between the features and the features smoothed with a Gaussian of a width of 1 pixel over the wavelength range between 2.08 and 2.29 were the features are normalized.  "
   ]
  },
  {
   "cell_type": "code",
   "execution_count": 51,
   "id": "7fdd37bf",
   "metadata": {},
   "outputs": [
    {
     "name": "stdout",
     "output_type": "stream",
     "text": [
      "n/s\n",
      "noise is [0.0160087  0.01839043 0.01425715 ... 0.00958813 0.00956729 0.00948825]\n",
      "current feature shape of traing set is (2977, 2808)\n"
     ]
    }
   ],
   "source": [
    "#the noise lvel is feature is currently in the general labels at 7\n",
    "print(colnames[7])\n",
    "print(f\"noise is {velg_train[:,7]}\")\n",
    "#add noise to new feature vector\n",
    "print(f\"current feature shape of traing set is {np.shape(xsel_train)}\")\n",
    "#create new features\n",
    "xsel_train2=np.zeros((np.shape(xsel_train)[0],np.shape(xsel_train)[1]+1))\n",
    "xsel_test2=np.zeros((np.shape(xsel_test)[0],np.shape(xsel_test)[1]+1))\n",
    "#copy old \n",
    "xsel_train2[:,0:np.shape(xsel_train)[1]]=xsel_train\n",
    "xsel_test2[:,0:np.shape(xsel_test)[1]]=xsel_test\n",
    "#add noise as feature\n",
    "xsel_train2[:,np.shape(xsel_train)[1]]=velg_train[:,7]\n",
    "xsel_test2[:,np.shape(xsel_test)[1]]=velg_test[:,7]"
   ]
  },
  {
   "cell_type": "markdown",
   "id": "a5dfced7",
   "metadata": {},
   "source": [
    "Fit with subsample of 0.5 as in the best case before. "
   ]
  },
  {
   "cell_type": "code",
   "execution_count": 52,
   "id": "0d9b138d",
   "metadata": {},
   "outputs": [
    {
     "name": "stderr",
     "output_type": "stream",
     "text": [
      "/home/tobias/anaconda3/lib/python3.8/site-packages/xgboost/sklearn.py:1224: UserWarning: The use of label encoder in XGBClassifier is deprecated and will be removed in a future release. To remove this warning, do the following: 1) Pass option use_label_encoder=False when constructing XGBClassifier object; and 2) Encode your labels (y) as integers starting with 0, i.e. 0, 1, 2, ..., [num_class - 1].\n",
      "  warnings.warn(label_encoder_deprecation_msg, UserWarning)\n"
     ]
    },
    {
     "name": "stdout",
     "output_type": "stream",
     "text": [
      "[14:50:55] WARNING: ../src/learner.cc:1115: Starting in XGBoost 1.3.0, the default evaluation metric used with the objective 'multi:softprob' was changed from 'merror' to 'mlogloss'. Explicitly set eval_metric if you'd like to restore the old behavior.\n"
     ]
    },
    {
     "data": {
      "text/plain": [
       "XGBClassifier(base_score=0.5, booster='gbtree', colsample_bylevel=1,\n",
       "              colsample_bynode=1, colsample_bytree=1, enable_categorical=False,\n",
       "              gamma=0, gpu_id=-1, importance_type=None,\n",
       "              interaction_constraints='', learning_rate=0.300000012,\n",
       "              max_delta_step=0, max_depth=6, min_child_weight=1, missing=nan,\n",
       "              monotone_constraints='()', n_estimators=100, n_jobs=8,\n",
       "              num_parallel_tree=1, objective='multi:softprob', predictor='auto',\n",
       "              random_state=0, reg_alpha=0, reg_lambda=1, scale_pos_weight=None,\n",
       "              subsample=0.5, tree_method='exact', validate_parameters=1,\n",
       "              verbosity=None)"
      ]
     },
     "execution_count": 52,
     "metadata": {},
     "output_type": "execute_result"
    }
   ],
   "source": [
    "model10 = XGBClassifier(subsample=0.5)\n",
    "model10.fit(xsel_train2, y_train)"
   ]
  },
  {
   "cell_type": "code",
   "execution_count": 53,
   "id": "67a27309",
   "metadata": {},
   "outputs": [],
   "source": [
    "y10_pred_train = model10.predict(xsel_train2)\n",
    "y10_pred_test = model10.predict(xsel_test2)"
   ]
  },
  {
   "cell_type": "code",
   "execution_count": 54,
   "id": "c14f5972",
   "metadata": {},
   "outputs": [
    {
     "data": {
      "image/png": "[encoded data removed]",
      "text/plain": [
       "<Figure size 432x432 with 2 Axes>"
      ]
     },
     "metadata": {
      "needs_background": "light"
     },
     "output_type": "display_data"
    }
   ],
   "source": [
    "cm_nbtrain10 = confusion_matrix(y_train, y10_pred_train)\n",
    "plt.figure(figsize = (6, 6));\n",
    "sns.heatmap(cm_nbtrain10, annot = True, fmt = \".3f\", linewidths = .5, square = True, cmap = \"YlGnBu\"),plt.title('Training set'),plt.xlabel('Predicted Label'),plt.ylabel('True Label');"
   ]
  },
  {
   "cell_type": "code",
   "execution_count": 55,
   "id": "385ebb00",
   "metadata": {},
   "outputs": [
    {
     "data": {
      "image/png": "[encoded data removed]",
      "text/plain": [
       "<Figure size 432x432 with 2 Axes>"
      ]
     },
     "metadata": {
      "needs_background": "light"
     },
     "output_type": "display_data"
    }
   ],
   "source": [
    "cm_nbtest10 = confusion_matrix(y_test, y10_pred_test)\n",
    "plt.figure(figsize = (6, 6));\n",
    "sns.heatmap(cm_nbtest10, annot = True, fmt = \".3f\", linewidths = .5, square = True, cmap = \"YlGnBu\"),plt.title('Test set'),plt.xlabel('Predicted Label'),plt.ylabel('True Label');"
   ]
  },
  {
   "cell_type": "markdown",
   "id": "36d145c8",
   "metadata": {},
   "source": [
    "The F1 score of early is better than all previous ones. The one of unclassified is also on the same level than the best ones before.\n",
    "The average of the two is better than the best one before. "
   ]
  },
  {
   "cell_type": "code",
   "execution_count": 63,
   "id": "ba0bf498",
   "metadata": {},
   "outputs": [
    {
     "name": "stdout",
     "output_type": "stream",
     "text": [
      "all is for the test set\n",
      "F1-score unclassified 0.7096774193548387\n",
      "best F1-score of unclassified before was 0.7272727272727272\n",
      "F1-score early 0.823529411764706\n",
      "best F1-score of early before was 0.7368421052631579\n"
     ]
    }
   ],
   "source": [
    "print(\"all is for the test set\")\n",
    "print(f\"F1-score unclassified {fmeas(cm_nbtest10,0)}\")\n",
    "print(f\"best F1-score of unclassified before was {max(np.max(ress[5]),np.max(ress2[5]))}\")\n",
    "print(f\"F1-score early {fmeas(cm_nbtest10,2)}\")\n",
    "print(f\"best F1-score of early before was {max(np.max(ress[4]),np.max(ress2[4]))}\")"
   ]
  },
  {
   "cell_type": "markdown",
   "id": "c13627cf",
   "metadata": {},
   "source": [
    "Now also adding weights to fit. "
   ]
  },
  {
   "cell_type": "code",
   "execution_count": 65,
   "id": "be2160bf",
   "metadata": {},
   "outputs": [
    {
     "name": "stderr",
     "output_type": "stream",
     "text": [
      "/home/tobias/anaconda3/lib/python3.8/site-packages/xgboost/sklearn.py:1224: UserWarning: The use of label encoder in XGBClassifier is deprecated and will be removed in a future release. To remove this warning, do the following: 1) Pass option use_label_encoder=False when constructing XGBClassifier object; and 2) Encode your labels (y) as integers starting with 0, i.e. 0, 1, 2, ..., [num_class - 1].\n",
      "  warnings.warn(label_encoder_deprecation_msg, UserWarning)\n"
     ]
    },
    {
     "name": "stdout",
     "output_type": "stream",
     "text": [
      "[15:09:06] WARNING: ../src/learner.cc:1115: Starting in XGBoost 1.3.0, the default evaluation metric used with the objective 'multi:softprob' was changed from 'merror' to 'mlogloss'. Explicitly set eval_metric if you'd like to restore the old behavior.\n"
     ]
    },
    {
     "data": {
      "text/plain": [
       "XGBClassifier(base_score=0.5, booster='gbtree', colsample_bylevel=1,\n",
       "              colsample_bynode=1, colsample_bytree=1, enable_categorical=False,\n",
       "              gamma=0, gpu_id=-1, importance_type=None,\n",
       "              interaction_constraints='', learning_rate=0.300000012,\n",
       "              max_delta_step=0, max_depth=6, min_child_weight=1, missing=nan,\n",
       "              monotone_constraints='()', n_estimators=100, n_jobs=8,\n",
       "              num_parallel_tree=1, objective='multi:softprob', predictor='auto',\n",
       "              random_state=0, reg_alpha=0, reg_lambda=1, scale_pos_weight=None,\n",
       "              subsample=0.5, tree_method='exact', validate_parameters=1,\n",
       "              verbosity=None)"
      ]
     },
     "execution_count": 65,
     "metadata": {},
     "output_type": "execute_result"
    }
   ],
   "source": [
    "xgb_classifier11 = xgb.XGBClassifier(subsample=0.5)\n",
    "xgb_classifier11.fit(xsel_train2, y_train, sample_weight=classes_weights)"
   ]
  },
  {
   "cell_type": "code",
   "execution_count": 66,
   "id": "6c770917",
   "metadata": {},
   "outputs": [],
   "source": [
    "y11_pred_train = xgb_classifier11.predict(xsel_train2)\n",
    "y11_pred_test = xgb_classifier11.predict(xsel_test2)"
   ]
  },
  {
   "cell_type": "code",
   "execution_count": 67,
   "id": "869f2b8b",
   "metadata": {},
   "outputs": [
    {
     "data": {
      "image/png": "[encoded data removed]",
      "text/plain": [
       "<Figure size 432x432 with 2 Axes>"
      ]
     },
     "metadata": {
      "needs_background": "light"
     },
     "output_type": "display_data"
    }
   ],
   "source": [
    "cm_nbtrain11 = confusion_matrix(y_train, y11_pred_train)\n",
    "plt.figure(figsize = (6, 6));\n",
    "sns.heatmap(cm_nbtrain11, annot = True, fmt = \".3f\", linewidths = .5, square = True, cmap = \"YlGnBu\"),plt.title('Training set'),plt.xlabel('Predicted Label'),plt.ylabel('True Label');"
   ]
  },
  {
   "cell_type": "code",
   "execution_count": 68,
   "id": "c0ab361e",
   "metadata": {},
   "outputs": [
    {
     "data": {
      "image/png": "[encoded data removed]",
      "text/plain": [
       "<Figure size 432x432 with 2 Axes>"
      ]
     },
     "metadata": {
      "needs_background": "light"
     },
     "output_type": "display_data"
    }
   ],
   "source": [
    "cm_nbtest11 = confusion_matrix(y_test, y11_pred_test)\n",
    "plt.figure(figsize = (6, 6));\n",
    "sns.heatmap(cm_nbtest11, annot = True, fmt = \".3f\", linewidths = .5, square = True, cmap = \"YlGnBu\"),plt.title('Test set'),plt.xlabel('Predicted Label'),plt.ylabel('True Label');"
   ]
  },
  {
   "cell_type": "markdown",
   "id": "5d4dde31",
   "metadata": {},
   "source": [
    "With the weights the classification does not improve even for the rare classes. As expected there is also worse classification of the late labelled ones."
   ]
  },
  {
   "cell_type": "code",
   "execution_count": 70,
   "id": "a6807a90",
   "metadata": {},
   "outputs": [
    {
     "name": "stdout",
     "output_type": "stream",
     "text": [
      "all is for the test set\n",
      "F1-score unclassified unweighted 0.7096774193548387\n",
      "F1-score unclassified weighted 0.6666666666666667\n",
      "F1-score early unweighted 0.823529411764706\n",
      "F1-score early weighted 0.7368421052631579\n"
     ]
    }
   ],
   "source": [
    "print(\"all is for the test set\")\n",
    "print(f\"F1-score unclassified unweighted {fmeas(cm_nbtest10,0)}\")\n",
    "print(f\"F1-score unclassified weighted {fmeas(cm_nbtest11,0)}\")\n",
    "print(f\"F1-score early unweighted {fmeas(cm_nbtest10,2)}\")\n",
    "print(f\"F1-score early weighted {fmeas(cm_nbtest11,2)}\")"
   ]
  },
  {
   "cell_type": "markdown",
   "id": "34f7b013",
   "metadata": {},
   "source": [
    "Now we run unweighted with the additional noise label for the same sub sample values as before. "
   ]
  },
  {
   "cell_type": "code",
   "execution_count": 102,
   "id": "76eaf783",
   "metadata": {},
   "outputs": [
    {
     "name": "stdout",
     "output_type": "stream",
     "text": [
      "subsample of 1.0\n"
     ]
    },
    {
     "name": "stderr",
     "output_type": "stream",
     "text": [
      "/home/tobias/anaconda3/lib/python3.8/site-packages/xgboost/sklearn.py:1224: UserWarning: The use of label encoder in XGBClassifier is deprecated and will be removed in a future release. To remove this warning, do the following: 1) Pass option use_label_encoder=False when constructing XGBClassifier object; and 2) Encode your labels (y) as integers starting with 0, i.e. 0, 1, 2, ..., [num_class - 1].\n",
      "  warnings.warn(label_encoder_deprecation_msg, UserWarning)\n"
     ]
    },
    {
     "name": "stdout",
     "output_type": "stream",
     "text": [
      "[16:01:40] WARNING: ../src/learner.cc:1115: Starting in XGBoost 1.3.0, the default evaluation metric used with the objective 'multi:softprob' was changed from 'merror' to 'mlogloss'. Explicitly set eval_metric if you'd like to restore the old behavior.\n",
      "subsample of 0.5\n"
     ]
    },
    {
     "name": "stderr",
     "output_type": "stream",
     "text": [
      "/home/tobias/anaconda3/lib/python3.8/site-packages/xgboost/sklearn.py:1224: UserWarning: The use of label encoder in XGBClassifier is deprecated and will be removed in a future release. To remove this warning, do the following: 1) Pass option use_label_encoder=False when constructing XGBClassifier object; and 2) Encode your labels (y) as integers starting with 0, i.e. 0, 1, 2, ..., [num_class - 1].\n",
      "  warnings.warn(label_encoder_deprecation_msg, UserWarning)\n"
     ]
    },
    {
     "name": "stdout",
     "output_type": "stream",
     "text": [
      "[16:01:56] WARNING: ../src/learner.cc:1115: Starting in XGBoost 1.3.0, the default evaluation metric used with the objective 'multi:softprob' was changed from 'merror' to 'mlogloss'. Explicitly set eval_metric if you'd like to restore the old behavior.\n",
      "subsample of 0.33\n"
     ]
    },
    {
     "name": "stderr",
     "output_type": "stream",
     "text": [
      "/home/tobias/anaconda3/lib/python3.8/site-packages/xgboost/sklearn.py:1224: UserWarning: The use of label encoder in XGBClassifier is deprecated and will be removed in a future release. To remove this warning, do the following: 1) Pass option use_label_encoder=False when constructing XGBClassifier object; and 2) Encode your labels (y) as integers starting with 0, i.e. 0, 1, 2, ..., [num_class - 1].\n",
      "  warnings.warn(label_encoder_deprecation_msg, UserWarning)\n"
     ]
    },
    {
     "name": "stdout",
     "output_type": "stream",
     "text": [
      "[16:02:07] WARNING: ../src/learner.cc:1115: Starting in XGBoost 1.3.0, the default evaluation metric used with the objective 'multi:softprob' was changed from 'merror' to 'mlogloss'. Explicitly set eval_metric if you'd like to restore the old behavior.\n",
      "subsample of 0.2\n"
     ]
    },
    {
     "name": "stderr",
     "output_type": "stream",
     "text": [
      "/home/tobias/anaconda3/lib/python3.8/site-packages/xgboost/sklearn.py:1224: UserWarning: The use of label encoder in XGBClassifier is deprecated and will be removed in a future release. To remove this warning, do the following: 1) Pass option use_label_encoder=False when constructing XGBClassifier object; and 2) Encode your labels (y) as integers starting with 0, i.e. 0, 1, 2, ..., [num_class - 1].\n",
      "  warnings.warn(label_encoder_deprecation_msg, UserWarning)\n"
     ]
    },
    {
     "name": "stdout",
     "output_type": "stream",
     "text": [
      "[16:02:16] WARNING: ../src/learner.cc:1115: Starting in XGBoost 1.3.0, the default evaluation metric used with the objective 'multi:softprob' was changed from 'merror' to 'mlogloss'. Explicitly set eval_metric if you'd like to restore the old behavior.\n",
      "subsample of 0.14\n"
     ]
    },
    {
     "name": "stderr",
     "output_type": "stream",
     "text": [
      "/home/tobias/anaconda3/lib/python3.8/site-packages/xgboost/sklearn.py:1224: UserWarning: The use of label encoder in XGBClassifier is deprecated and will be removed in a future release. To remove this warning, do the following: 1) Pass option use_label_encoder=False when constructing XGBClassifier object; and 2) Encode your labels (y) as integers starting with 0, i.e. 0, 1, 2, ..., [num_class - 1].\n",
      "  warnings.warn(label_encoder_deprecation_msg, UserWarning)\n"
     ]
    },
    {
     "name": "stdout",
     "output_type": "stream",
     "text": [
      "[16:02:23] WARNING: ../src/learner.cc:1115: Starting in XGBoost 1.3.0, the default evaluation metric used with the objective 'multi:softprob' was changed from 'merror' to 'mlogloss'. Explicitly set eval_metric if you'd like to restore the old behavior.\n",
      "subsample of 0.1\n"
     ]
    },
    {
     "name": "stderr",
     "output_type": "stream",
     "text": [
      "/home/tobias/anaconda3/lib/python3.8/site-packages/xgboost/sklearn.py:1224: UserWarning: The use of label encoder in XGBClassifier is deprecated and will be removed in a future release. To remove this warning, do the following: 1) Pass option use_label_encoder=False when constructing XGBClassifier object; and 2) Encode your labels (y) as integers starting with 0, i.e. 0, 1, 2, ..., [num_class - 1].\n",
      "  warnings.warn(label_encoder_deprecation_msg, UserWarning)\n"
     ]
    },
    {
     "name": "stdout",
     "output_type": "stream",
     "text": [
      "[16:02:29] WARNING: ../src/learner.cc:1115: Starting in XGBoost 1.3.0, the default evaluation metric used with the objective 'multi:softprob' was changed from 'merror' to 'mlogloss'. Explicitly set eval_metric if you'd like to restore the old behavior.\n",
      "subsample of 0.07\n"
     ]
    },
    {
     "name": "stderr",
     "output_type": "stream",
     "text": [
      "/home/tobias/anaconda3/lib/python3.8/site-packages/xgboost/sklearn.py:1224: UserWarning: The use of label encoder in XGBClassifier is deprecated and will be removed in a future release. To remove this warning, do the following: 1) Pass option use_label_encoder=False when constructing XGBClassifier object; and 2) Encode your labels (y) as integers starting with 0, i.e. 0, 1, 2, ..., [num_class - 1].\n",
      "  warnings.warn(label_encoder_deprecation_msg, UserWarning)\n"
     ]
    },
    {
     "name": "stdout",
     "output_type": "stream",
     "text": [
      "[16:02:34] WARNING: ../src/learner.cc:1115: Starting in XGBoost 1.3.0, the default evaluation metric used with the objective 'multi:softprob' was changed from 'merror' to 'mlogloss'. Explicitly set eval_metric if you'd like to restore the old behavior.\n",
      "subsample of 0.05\n"
     ]
    },
    {
     "name": "stderr",
     "output_type": "stream",
     "text": [
      "/home/tobias/anaconda3/lib/python3.8/site-packages/xgboost/sklearn.py:1224: UserWarning: The use of label encoder in XGBClassifier is deprecated and will be removed in a future release. To remove this warning, do the following: 1) Pass option use_label_encoder=False when constructing XGBClassifier object; and 2) Encode your labels (y) as integers starting with 0, i.e. 0, 1, 2, ..., [num_class - 1].\n",
      "  warnings.warn(label_encoder_deprecation_msg, UserWarning)\n"
     ]
    },
    {
     "name": "stdout",
     "output_type": "stream",
     "text": [
      "[16:02:40] WARNING: ../src/learner.cc:1115: Starting in XGBoost 1.3.0, the default evaluation metric used with the objective 'multi:softprob' was changed from 'merror' to 'mlogloss'. Explicitly set eval_metric if you'd like to restore the old behavior.\n",
      "subsample of 0.04\n"
     ]
    },
    {
     "name": "stderr",
     "output_type": "stream",
     "text": [
      "/home/tobias/anaconda3/lib/python3.8/site-packages/xgboost/sklearn.py:1224: UserWarning: The use of label encoder in XGBClassifier is deprecated and will be removed in a future release. To remove this warning, do the following: 1) Pass option use_label_encoder=False when constructing XGBClassifier object; and 2) Encode your labels (y) as integers starting with 0, i.e. 0, 1, 2, ..., [num_class - 1].\n",
      "  warnings.warn(label_encoder_deprecation_msg, UserWarning)\n"
     ]
    },
    {
     "name": "stdout",
     "output_type": "stream",
     "text": [
      "[16:02:44] WARNING: ../src/learner.cc:1115: Starting in XGBoost 1.3.0, the default evaluation metric used with the objective 'multi:softprob' was changed from 'merror' to 'mlogloss'. Explicitly set eval_metric if you'd like to restore the old behavior.\n",
      "subsample of 0.03\n"
     ]
    },
    {
     "name": "stderr",
     "output_type": "stream",
     "text": [
      "/home/tobias/anaconda3/lib/python3.8/site-packages/xgboost/sklearn.py:1224: UserWarning: The use of label encoder in XGBClassifier is deprecated and will be removed in a future release. To remove this warning, do the following: 1) Pass option use_label_encoder=False when constructing XGBClassifier object; and 2) Encode your labels (y) as integers starting with 0, i.e. 0, 1, 2, ..., [num_class - 1].\n",
      "  warnings.warn(label_encoder_deprecation_msg, UserWarning)\n"
     ]
    },
    {
     "name": "stdout",
     "output_type": "stream",
     "text": [
      "[16:02:48] WARNING: ../src/learner.cc:1115: Starting in XGBoost 1.3.0, the default evaluation metric used with the objective 'multi:softprob' was changed from 'merror' to 'mlogloss'. Explicitly set eval_metric if you'd like to restore the old behavior.\n"
     ]
    }
   ],
   "source": [
    "ress3=np.zeros((7,10))\n",
    "ress3[0,:]=ress[0,:]\n",
    "for i in range(10):\n",
    "    print(f\"subsample of {ress3[0,i]}\")\n",
    "    model3 = XGBClassifier(subsample=ress3[0,i])  \n",
    "    model3.fit(xsel_train2,y_train)\n",
    "    y3_pred_train = model3.predict(xsel_train2)\n",
    "    y3_pred_test = model3.predict(xsel_test2)\n",
    "    cm_nbtrain3 = confusion_matrix(y_train, y3_pred_train)\n",
    "    cm_nbtest3 = confusion_matrix(y_test, y3_pred_test)\n",
    "    ress3[1,i]=fmeas(cm_nbtrain3,int(2))\n",
    "    ress3[2,i]=fmeas(cm_nbtrain3,int(0))\n",
    "    ress3[3,i]=(ress3[1,i]+ress3[2,i])/2\n",
    "    ress3[4,i]=fmeas(cm_nbtest3,int(2))\n",
    "    ress3[5,i]=fmeas(cm_nbtest3,int(0))\n",
    "    ress3[6,i]=(ress3[4,i]+ress3[5,i])/2"
   ]
  },
  {
   "cell_type": "markdown",
   "id": "be7e6d6a",
   "metadata": {},
   "source": [
    "Sub sample of 0.5 is clearly the best sub sample of all for the test set. The values for the others are rather similar besides of the lowest one for 0.03."
   ]
  },
  {
   "cell_type": "code",
   "execution_count": 101,
   "id": "4a26d369",
   "metadata": {},
   "outputs": [
    {
     "data": {
      "text/plain": [
       "Text(0.5, 1.0, 'noise an additional label')"
      ]
     },
     "execution_count": 101,
     "metadata": {},
     "output_type": "execute_result"
    },
    {
     "data": {
      "image/png": "[encoded data removed]",
      "text/plain": [
       "<Figure size 432x288 with 1 Axes>"
      ]
     },
     "metadata": {
      "needs_background": "light"
     },
     "output_type": "display_data"
    }
   ],
   "source": [
    "plt.plot(ress3[0],ress3[3],'o',ms=15,color='orange',label='train both') \n",
    "plt.plot(ress3[0],ress3[2],'x',ms=15,color='gray',label='train unclassified') \n",
    "plt.plot(ress3[0],ress3[1],'*',ms=15,color='cyan',label='train early') \n",
    "plt.plot(ress3[0],ress3[6],'o',color='red',label='test both') \n",
    "plt.plot(ress3[0],ress3[5],'x',color='black',label='test unclassified') \n",
    "plt.plot(ress3[0],ress3[4],'*',color='blue',label='test early') \n",
    "plt.legend(loc=\"best\")\n",
    "plt.xlabel(\"subsample\")\n",
    "plt.xscale(\"log\")\n",
    "plt.ylabel(\"F1-score\")\n",
    "plt.title(\"noise an additional label\")"
   ]
  },
  {
   "cell_type": "code",
   "execution_count": 106,
   "id": "207e396a",
   "metadata": {},
   "outputs": [
    {
     "data": {
      "text/plain": [
       "True"
      ]
     },
     "execution_count": 106,
     "metadata": {},
     "output_type": "execute_result"
    }
   ],
   "source": []
  },
  {
   "cell_type": "code",
   "execution_count": null,
   "id": "dc64b8b7",
   "metadata": {},
   "outputs": [],
   "source": []
  }
 ],
 "metadata": {
  "kernelspec": {
   "display_name": "Python 3",
   "language": "python",
   "name": "python3"
  },
  "language_info": {
   "codemirror_mode": {
    "name": "ipython",
    "version": 3
   },
   "file_extension": ".py",
   "mimetype": "text/x-python",
   "name": "python",
   "nbconvert_exporter": "python",
   "pygments_lexer": "ipython3",
   "version": "3.8.8"
  }
 },
 "nbformat": 4,
 "nbformat_minor": 5
}
